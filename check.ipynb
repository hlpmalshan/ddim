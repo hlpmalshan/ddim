{
 "cells": [
  {
   "cell_type": "code",
   "execution_count": 16,
   "id": "9fa845f7",
   "metadata": {},
   "outputs": [],
   "source": [
    "import torch "
   ]
  },
  {
   "cell_type": "code",
   "execution_count": 17,
   "id": "5abeb7c0",
   "metadata": {},
   "outputs": [],
   "source": [
    "B, C, H, W = 64, 3, 64, 64\n",
    "x = torch.randn((B, C, H, W))\n",
    "output = torch.randn((B, C, H, W))"
   ]
  },
  {
   "cell_type": "code",
   "execution_count": 18,
   "id": "75fb9c05",
   "metadata": {},
   "outputs": [
    {
     "data": {
      "text/plain": [
       "tensor(1.9995)"
      ]
     },
     "execution_count": 18,
     "metadata": {},
     "output_type": "execute_result"
    }
   ],
   "source": [
    "(x - output).square().mean(dim=(1, 2, 3)).mean(dim=0)"
   ]
  },
  {
   "cell_type": "code",
   "execution_count": 32,
   "id": "3afb9447",
   "metadata": {},
   "outputs": [
    {
     "data": {
      "text/plain": [
       "tensor(3.8087e-07)"
      ]
     },
     "execution_count": 32,
     "metadata": {},
     "output_type": "execute_result"
    }
   ],
   "source": [
    "(1 - output.square().mean(dim=(1, 2, 3)).mean()).square()"
   ]
  },
  {
   "cell_type": "code",
   "execution_count": 33,
   "id": "7b1c332c",
   "metadata": {},
   "outputs": [
    {
     "data": {
      "text/plain": [
       "tensor(3.8094e-07)"
      ]
     },
     "execution_count": 33,
     "metadata": {},
     "output_type": "execute_result"
    }
   ],
   "source": [
    "(1 - (output.flatten().square().mean())).square()"
   ]
  },
  {
   "cell_type": "code",
   "execution_count": null,
   "id": "87835555",
   "metadata": {},
   "outputs": [],
   "source": []
  }
 ],
 "metadata": {
  "kernelspec": {
   "display_name": "ddim",
   "language": "python",
   "name": "python3"
  },
  "language_info": {
   "codemirror_mode": {
    "name": "ipython",
    "version": 3
   },
   "file_extension": ".py",
   "mimetype": "text/x-python",
   "name": "python",
   "nbconvert_exporter": "python",
   "pygments_lexer": "ipython3",
   "version": "3.9.0"
  }
 },
 "nbformat": 4,
 "nbformat_minor": 5
}
